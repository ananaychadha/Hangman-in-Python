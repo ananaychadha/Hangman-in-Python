{
 "cells": [
  {
   "cell_type": "code",
   "execution_count": 3,
   "metadata": {},
   "outputs": [
    {
     "name": "stdout",
     "output_type": "stream",
     "text": [
      "You have 5 lives left and you have used these letters:  \n",
      "Current word:  - - - - -\n",
      "Guess a letter: k\n",
      "Letter is not a valid word.\n",
      "You have 4 lives left and you have used these letters:  K\n",
      "Current word:  - - - - -\n",
      "Guess a letter: y\n",
      "Letter is not a valid word.\n",
      "You have 3 lives left and you have used these letters:  K Y\n",
      "Current word:  - - - - -\n",
      "Guess a letter: v\n",
      "Letter is not a valid word.\n",
      "You have 2 lives left and you have used these letters:  K V Y\n",
      "Current word:  - - - - -\n",
      "Guess a letter: k\n",
      "You have already used that character. Please try again\n",
      "You have 2 lives left and you have used these letters:  K V Y\n",
      "Current word:  - - - - -\n",
      "Guess a letter: r\n",
      "Letter is not a valid word.\n",
      "You have 1 lives left and you have used these letters:  R K V Y\n",
      "Current word:  - - - - -\n",
      "Guess a letter: f\n",
      "Letter is not a valid word.\n",
      "You died, sorry. The word was broad\n"
     ]
    }
   ],
   "source": [
    "import random\n",
    "from words import words\n",
    "import string\n",
    "\n",
    "def get_valid_word(words):\n",
    "    word = random.choice(words) #randomly chooses a word from the list\n",
    "    while '-' in word or ' ' in word:\n",
    "        word = random.choice(words)\n",
    "    \n",
    "    return word\n",
    "\n",
    "def hangman():\n",
    "    word = get_valid_word(words)\n",
    "    word_letters = set(word) #letters for word\n",
    "    alphabet = set(string.ascii_uppercase)\n",
    "    used_letters = set() #what the user has guessed\n",
    "    \n",
    "    lives = 5\n",
    "    \n",
    "    #getting user input\n",
    "    while len(word_letters) > 0 and lives > 0:\n",
    "        #letters used\n",
    "        print('You have', lives, 'lives left and you have used these letters: ', ' '.join(used_letters))\n",
    "    \n",
    "        #current word\n",
    "        word_list = [letter if letter in used_letters else '-' for letter in word]\n",
    "        print('Current word: ', ' '.join(word_list))\n",
    "        #word_list = [letter if letter in used_letters else '-' for letter in word]\n",
    "        #print('Current word: ', ' '.join(word_list))\n",
    "        \n",
    "        user_letter = input('Guess a letter: ').upper()\n",
    "        if user_letter in alphabet - used_letters:\n",
    "            used_letters.add(user_letter)\n",
    "            if user_letter in word_letters:\n",
    "                word_letters.remove(user_letter)\n",
    "                \n",
    "            else: \n",
    "                lives = lives - 1 #takes away a life if wrong\n",
    "                print('Letter is not a valid word.')\n",
    "                \n",
    "        elif user_letter in used_letters:\n",
    "            print('You have already used that character. Please try again')\n",
    "            \n",
    "        else:\n",
    "            print(\"Invalid character. Please try again.\")\n",
    "            \n",
    "    if lives == 0:\n",
    "        print('You died, sorry. The word was', word)\n",
    "    else:\n",
    "        print('You guessed the word', word, '!!')\n",
    "\n",
    "hangman()"
   ]
  },
  {
   "cell_type": "code",
   "execution_count": null,
   "metadata": {},
   "outputs": [],
   "source": []
  }
 ],
 "metadata": {
  "celltoolbar": "Raw Cell Format",
  "kernelspec": {
   "display_name": "Python 3",
   "language": "python",
   "name": "python3"
  },
  "language_info": {
   "codemirror_mode": {
    "name": "ipython",
    "version": 3
   },
   "file_extension": ".py",
   "mimetype": "text/x-python",
   "name": "python",
   "nbconvert_exporter": "python",
   "pygments_lexer": "ipython3",
   "version": "3.8.5"
  }
 },
 "nbformat": 4,
 "nbformat_minor": 4
}
